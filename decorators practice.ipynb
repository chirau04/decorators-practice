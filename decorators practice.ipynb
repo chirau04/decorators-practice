{
 "cells": [
  {
   "cell_type": "code",
   "execution_count": 1,
   "id": "0b0d48d7-22a5-4355-a4e6-2afca953af2d",
   "metadata": {},
   "outputs": [],
   "source": [
    "def test():\n",
    "    print(\"this is the start of my func\")\n",
    "    print(\"this is my func to test\")\n",
    "    print(4+5)\n",
    "    print(\"this is the end of my fun\")"
   ]
  },
  {
   "cell_type": "code",
   "execution_count": 2,
   "id": "04143e3d-84c7-49ec-8f7f-77d25cf4b608",
   "metadata": {},
   "outputs": [
    {
     "name": "stdout",
     "output_type": "stream",
     "text": [
      "this is the start of my func\n",
      "this is my func to test\n",
      "9\n",
      "this is the end of my fun\n"
     ]
    }
   ],
   "source": [
    "test()"
   ]
  },
  {
   "cell_type": "code",
   "execution_count": 18,
   "id": "1b24033e-7197-4d53-b2b7-37c010c0ad4b",
   "metadata": {},
   "outputs": [],
   "source": [
    "def deco (func):\n",
    "    def inner_dec():\n",
    "        print(\"this is the start of my fun\")\n",
    "        func()\n",
    "        print(\"this is the end of my fun\")\n",
    "        return inner_dec"
   ]
  },
  {
   "cell_type": "code",
   "execution_count": 21,
   "id": "d6b1573b-d644-4529-81d8-1e9d0d26f841",
   "metadata": {},
   "outputs": [
    {
     "data": {
      "text/plain": [
       "<function __main__.deco(func)>"
      ]
     },
     "execution_count": 21,
     "metadata": {},
     "output_type": "execute_result"
    }
   ],
   "source": [
    "deco"
   ]
  },
  {
   "cell_type": "code",
   "execution_count": 22,
   "id": "b2cf0445-ef8c-4573-9a12-7ec32a3db827",
   "metadata": {},
   "outputs": [],
   "source": [
    "def test1():\n",
    "    print(6+7)"
   ]
  },
  {
   "cell_type": "code",
   "execution_count": 23,
   "id": "25a1313b-9604-46ef-ae40-f2fa44a821f4",
   "metadata": {},
   "outputs": [
    {
     "name": "stdout",
     "output_type": "stream",
     "text": [
      "13\n"
     ]
    }
   ],
   "source": [
    "test1()"
   ]
  },
  {
   "cell_type": "code",
   "execution_count": 24,
   "id": "cfde23bd-e88b-4cea-a31a-547ec79cfd62",
   "metadata": {},
   "outputs": [],
   "source": [
    "import time\n",
    "\n",
    "def timer_test(func):\n",
    "    def timer_test_inner():\n",
    "        start = time.time()\n",
    "        func()\n",
    "        end = time.time()\n",
    "        print(end_start)\n",
    "        return timer_test_inner"
   ]
  },
  {
   "cell_type": "code",
   "execution_count": 67,
   "id": "db1d885b-fcce-4a13-a1aa-1e1545d7b5fc",
   "metadata": {},
   "outputs": [],
   "source": [
    "def test2():\n",
    "    print(45+78)"
   ]
  },
  {
   "cell_type": "code",
   "execution_count": 69,
   "id": "1228cc55-b89d-4ecc-9cfb-30d81a952335",
   "metadata": {},
   "outputs": [
    {
     "name": "stdout",
     "output_type": "stream",
     "text": [
      "123\n"
     ]
    }
   ],
   "source": [
    "test2()"
   ]
  },
  {
   "cell_type": "code",
   "execution_count": 63,
   "id": "e75a0992-7c8c-4cbe-a40d-06c22b8ef1ba",
   "metadata": {},
   "outputs": [],
   "source": [
    "@timer_test\n",
    "def test2():\n",
    "    print(45+78)"
   ]
  },
  {
   "cell_type": "code",
   "execution_count": 70,
   "id": "07c2707e-f497-470a-a2bd-b2037fce2bd0",
   "metadata": {},
   "outputs": [
    {
     "name": "stdout",
     "output_type": "stream",
     "text": [
      "123\n"
     ]
    }
   ],
   "source": [
    "test2()"
   ]
  },
  {
   "cell_type": "code",
   "execution_count": 71,
   "id": "beb61e17-0ecc-48a5-95a2-9b3c4e379027",
   "metadata": {},
   "outputs": [],
   "source": [
    "def test() :\n",
    "    for i in range (100000000):\n",
    "        pass"
   ]
  },
  {
   "cell_type": "code",
   "execution_count": null,
   "id": "34e29d03-91eb-44b6-a7d2-48ffe407dd47",
   "metadata": {},
   "outputs": [],
   "source": [
    "test()"
   ]
  },
  {
   "cell_type": "code",
   "execution_count": null,
   "id": "df1bbe39-661a-4f21-873b-8ec6b4ee7de4",
   "metadata": {},
   "outputs": [],
   "source": []
  }
 ],
 "metadata": {
  "kernelspec": {
   "display_name": "Python 3 (ipykernel)",
   "language": "python",
   "name": "python3"
  },
  "language_info": {
   "codemirror_mode": {
    "name": "ipython",
    "version": 3
   },
   "file_extension": ".py",
   "mimetype": "text/x-python",
   "name": "python",
   "nbconvert_exporter": "python",
   "pygments_lexer": "ipython3",
   "version": "3.10.8"
  }
 },
 "nbformat": 4,
 "nbformat_minor": 5
}
